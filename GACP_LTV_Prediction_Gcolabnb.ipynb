{
  "nbformat": 4,
  "nbformat_minor": 0,
  "metadata": {
    "colab": {
      "name": "GACP_LTV_Prediction.ipynb",
      "provenance": []
    },
    "kernelspec": {
      "name": "python3",
      "display_name": "Python 3"
    },
    "accelerator": "GPU"
  },
  "cells": [
    {
      "cell_type": "code",
      "metadata": {
        "id": "Cxk5bCHWR9f3",
        "colab_type": "code",
        "colab": {}
      },
      "source": [
        ""
      ],
      "execution_count": null,
      "outputs": []
    },
    {
      "cell_type": "code",
      "metadata": {
        "id": "lHpld7Xmu5ud",
        "colab_type": "code",
        "colab": {}
      },
      "source": [
        "import numpy as np\n",
        "import pandas as pd\n",
        "import re\n",
        "\n",
        "import matplotlib.pyplot as plt\n",
        "# import seaborn as sns\n",
        "\n",
        "\n",
        "# import plotly.graph_objects as go\n",
        "# from plotly.subplots import make_subplots\n",
        "\n",
        "# import plotly.express as px"
      ],
      "execution_count": 5,
      "outputs": []
    },
    {
      "cell_type": "code",
      "metadata": {
        "id": "EWylV2mWvW4o",
        "colab_type": "code",
        "colab": {}
      },
      "source": [
        "from time import perf_counter \n",
        "\n",
        "\n",
        "import time\n",
        "import concurrent.futures\n",
        "\n",
        "import sys\n",
        "\n",
        "\n",
        "from sklearn.model_selection import train_test_split\n",
        "from sklearn.svm import SVR\n",
        "import pickle\n"
      ],
      "execution_count": 7,
      "outputs": []
    },
    {
      "cell_type": "code",
      "metadata": {
        "id": "Ep6Cct93wnI9",
        "colab_type": "code",
        "colab": {
          "base_uri": "https://localhost:8080/",
          "height": 34
        },
        "outputId": "3193021b-31ad-41cc-f07a-f8a7590d635f"
      },
      "source": [
        "from google.colab import drive\n",
        "drive.mount('/content/drive')"
      ],
      "execution_count": 8,
      "outputs": [
        {
          "output_type": "stream",
          "text": [
            "Drive already mounted at /content/drive; to attempt to forcibly remount, call drive.mount(\"/content/drive\", force_remount=True).\n"
          ],
          "name": "stdout"
        }
      ]
    },
    {
      "cell_type": "code",
      "metadata": {
        "id": "Z3eGPuwJvLf2",
        "colab_type": "code",
        "colab": {}
      },
      "source": [
        "invoice = pd.read_csv('/content/drive/My Drive/GreyAtomCapstone/invoice_refined.csv',low_memory=False)"
      ],
      "execution_count": 9,
      "outputs": []
    },
    {
      "cell_type": "code",
      "metadata": {
        "id": "dt7f_9jVyH0R",
        "colab_type": "code",
        "colab": {}
      },
      "source": [
        "cno_freq = pd.read_csv('/content/drive/My Drive/GreyAtomCapstone/cno_freq.csv',low_memory=False)\n"
      ],
      "execution_count": 10,
      "outputs": []
    },
    {
      "cell_type": "code",
      "metadata": {
        "id": "fB8SuFTDyUcF",
        "colab_type": "code",
        "colab": {}
      },
      "source": [
        "invoice_smm_average = pd.read_csv('/content/drive/My Drive/GreyAtomCapstone/invoice_smm_average.csv',low_memory=False)\n"
      ],
      "execution_count": 11,
      "outputs": []
    },
    {
      "cell_type": "code",
      "metadata": {
        "id": "-o8xSN_6ye7_",
        "colab_type": "code",
        "colab": {}
      },
      "source": [
        "invoice_smm_average = pd.read_csv('/content/drive/My Drive/GreyAtomCapstone/invoice_smm_average.csv',low_memory=False)\n",
        "\n",
        "inv_kms_lifetime = pd.read_csv('/content/drive/My Drive/GreyAtomCapstone/inv_kms_lifetime.csv',low_memory=False)\n",
        "\n",
        "inv_snmm_avg = pd.read_csv('/content/drive/My Drive/GreyAtomCapstone/inv_snmm_avg.csv',low_memory=False)"
      ],
      "execution_count": 12,
      "outputs": []
    },
    {
      "cell_type": "code",
      "metadata": {
        "id": "mibbKk0vyj5J",
        "colab_type": "code",
        "colab": {
          "base_uri": "https://localhost:8080/",
          "height": 1000
        },
        "outputId": "2d540150-3820-4899-e60b-1150b0d1d739"
      },
      "source": [
        "for df in [invoice,cno_freq,invoice_smm_average,inv_kms_lifetime]:   \n",
        "    print(df.info())\n",
        "df=None\n",
        "\n",
        "inv_kms_lifetime[inv_kms_lifetime['KMs_3L_cap'].between(250000,300000, inclusive=True)].shape\n",
        "\n",
        "invoice['Frequency_year'] = cno_freq['Frequency_year']\n",
        "\n",
        "invoice['SMM_average'] = invoice_smm_average['SMM_average']\n",
        "\n",
        "invoice['kms_lifetime_3L'] = inv_kms_lifetime['kms_lifetime_3L']\n",
        "\n",
        "# inv_snmm_avg\n",
        "invoice['SnMM_average'] = inv_snmm_avg['SnMM_average']"
      ],
      "execution_count": 13,
      "outputs": [
        {
          "output_type": "stream",
          "text": [
            "<class 'pandas.core.frame.DataFrame'>\n",
            "RangeIndex: 492314 entries, 0 to 492313\n",
            "Data columns (total 41 columns):\n",
            " #   Column               Non-Null Count   Dtype  \n",
            "---  ------               --------------   -----  \n",
            " 0   Unnamed: 0           492314 non-null  int64  \n",
            " 1   Area / Locality      468424 non-null  object \n",
            " 2   CITY                 492313 non-null  object \n",
            " 3   Cash /Cashless Type  27420 non-null   object \n",
            " 4   Claim No.            4804 non-null    object \n",
            " 5   Cust Type            492314 non-null  object \n",
            " 6   Customer No.         492314 non-null  object \n",
            " 7   District             492314 non-null  object \n",
            " 8   Expiry Date          22231 non-null   object \n",
            " 9   Gate Pass Date       40915 non-null   object \n",
            " 10  Gate Pass Time       492314 non-null  object \n",
            " 11  Invoice Date         492314 non-null  object \n",
            " 12  Invoice No           492314 non-null  int64  \n",
            " 13  Invoice Time         492314 non-null  object \n",
            " 14  Job Card No          492314 non-null  int64  \n",
            " 15  JobCard Date         492314 non-null  object \n",
            " 16  JobCard Time         492314 non-null  object \n",
            " 17  KMs Reading          492314 non-null  int64  \n",
            " 18  Labour Total         492314 non-null  float64\n",
            " 19  Make                 492314 non-null  object \n",
            " 20  Misc Total           492314 non-null  float64\n",
            " 21  Model                490789 non-null  object \n",
            " 22  ODN No.              295028 non-null  float64\n",
            " 23  OSL Total            492314 non-null  float64\n",
            " 24  Order Type           492314 non-null  object \n",
            " 25  Outstanding Amt      295028 non-null  float64\n",
            " 26  Parts Total          492314 non-null  float64\n",
            " 27  Plant                492314 non-null  object \n",
            " 28  Plant Name1          492314 non-null  object \n",
            " 29  Policy no.           16882 non-null   object \n",
            " 30  Print Status         492314 non-null  object \n",
            " 31  Recovrbl Exp         492314 non-null  float64\n",
            " 32  Regn No              492298 non-null  object \n",
            " 33  Technician Name      255480 non-null  object \n",
            " 34  Total Amt Wtd Tax.   492314 non-null  float64\n",
            " 35  Total Value          492314 non-null  float64\n",
            " 36  User ID              492314 non-null  object \n",
            " 37  plant_city           492314 non-null  object \n",
            " 38  plant_state          492314 non-null  object \n",
            " 39  invoice_month        492314 non-null  int64  \n",
            " 40  invoice_year         492314 non-null  int64  \n",
            "dtypes: float64(9), int64(6), object(26)\n",
            "memory usage: 154.0+ MB\n",
            "None\n",
            "<class 'pandas.core.frame.DataFrame'>\n",
            "RangeIndex: 492314 entries, 0 to 492313\n",
            "Data columns (total 3 columns):\n",
            " #   Column          Non-Null Count   Dtype  \n",
            "---  ------          --------------   -----  \n",
            " 0   Unnamed: 0      492314 non-null  int64  \n",
            " 1   Customer No.    492314 non-null  object \n",
            " 2   Frequency_year  492314 non-null  float64\n",
            "dtypes: float64(1), int64(1), object(1)\n",
            "memory usage: 11.3+ MB\n",
            "None\n",
            "<class 'pandas.core.frame.DataFrame'>\n",
            "RangeIndex: 492314 entries, 0 to 492313\n",
            "Data columns (total 6 columns):\n",
            " #   Column        Non-Null Count   Dtype  \n",
            "---  ------        --------------   -----  \n",
            " 0   Unnamed: 0    492314 non-null  int64  \n",
            " 1   Customer No.  492314 non-null  object \n",
            " 2   plant_state   492314 non-null  object \n",
            " 3   Model         490789 non-null  object \n",
            " 4   Make          492314 non-null  object \n",
            " 5   SMM_average   490789 non-null  float64\n",
            "dtypes: float64(1), int64(1), object(4)\n",
            "memory usage: 22.5+ MB\n",
            "None\n",
            "<class 'pandas.core.frame.DataFrame'>\n",
            "RangeIndex: 492314 entries, 0 to 492313\n",
            "Data columns (total 7 columns):\n",
            " #   Column           Non-Null Count   Dtype  \n",
            "---  ------           --------------   -----  \n",
            " 0   Unnamed: 0       492314 non-null  int64  \n",
            " 1   Customer No.     492314 non-null  object \n",
            " 2   KMs Reading      492314 non-null  int64  \n",
            " 3   Make             492314 non-null  object \n",
            " 4   Model            490789 non-null  object \n",
            " 5   KMs_3L_cap       492305 non-null  float64\n",
            " 6   kms_lifetime_3L  492305 non-null  float64\n",
            "dtypes: float64(2), int64(2), object(3)\n",
            "memory usage: 26.3+ MB\n",
            "None\n"
          ],
          "name": "stdout"
        }
      ]
    },
    {
      "cell_type": "code",
      "metadata": {
        "id": "rDSF6vMsxqRK",
        "colab_type": "code",
        "colab": {
          "base_uri": "https://localhost:8080/",
          "height": 102
        },
        "outputId": "49b6460e-bd42-400d-99f5-b8135af2fb55"
      },
      "source": [
        "\n",
        "\n",
        "\n",
        "state_map={'Maharashtra': 'West',\n",
        " 'Tamil Nadu': 'South',\n",
        " 'Karnataka': 'South',\n",
        " 'Uttar Pradesh': 'North',\n",
        " 'Gujarat': 'West',\n",
        " 'Telangana': 'South',\n",
        " 'Punjab': 'North',\n",
        " 'Andhra Pradesh': 'South',\n",
        " 'Haryana': 'North',\n",
        " 'Madhya Pradesh': 'West',\n",
        " 'Rajasthan': 'West',\n",
        " 'Kerala': 'South',\n",
        " 'Himachal Pradesh': 'North',\n",
        " 'Bihar': 'East',\n",
        " 'Uttarakhand': 'North',\n",
        " 'Odisha': 'East',\n",
        " 'Puducherry': 'South',\n",
        " 'West Bengal': 'East',\n",
        " 'Chhattisgarh': 'East',\n",
        " 'Jharkhand': 'East',\n",
        " 'Assam': 'East',\n",
        " 'Chandigarh': 'North'}\n",
        "invoice['state_news'] = invoice['plant_state'].map(state_map)\n",
        "\n",
        "invoice['state_news'].value_counts(dropna=False)"
      ],
      "execution_count": 14,
      "outputs": [
        {
          "output_type": "execute_result",
          "data": {
            "text/plain": [
              "South    214484\n",
              "West     183147\n",
              "North     86793\n",
              "East       7890\n",
              "Name: state_news, dtype: int64"
            ]
          },
          "metadata": {
            "tags": []
          },
          "execution_count": 14
        }
      ]
    },
    {
      "cell_type": "code",
      "metadata": {
        "id": "xV4ZnptXyoUN",
        "colab_type": "code",
        "colab": {}
      },
      "source": [
        "# dump df other than invoice\n",
        "\n",
        "cno_freq = None\n",
        "invoice_smm_average = None\n",
        "inv_kms_lifetime = None\n",
        "inv_snmm_avg = None\n",
        "\n"
      ],
      "execution_count": 15,
      "outputs": []
    },
    {
      "cell_type": "code",
      "metadata": {
        "id": "Lu_9Ddtoy54r",
        "colab_type": "code",
        "colab": {}
      },
      "source": [
        "# invoice[invoice.Model.isnull()].shape\n",
        "\n"
      ],
      "execution_count": 16,
      "outputs": []
    },
    {
      "cell_type": "code",
      "metadata": {
        "id": "0A35Y8N5y8AC",
        "colab_type": "code",
        "colab": {}
      },
      "source": [
        "# invoice.shape\n"
      ],
      "execution_count": 17,
      "outputs": []
    },
    {
      "cell_type": "code",
      "metadata": {
        "id": "2OHH6mHly-Y-",
        "colab_type": "code",
        "colab": {
          "base_uri": "https://localhost:8080/",
          "height": 34
        },
        "outputId": "14a48d87-9753-4a57-e447-9bc383b9ee56"
      },
      "source": [
        "\n",
        "invoice = invoice[invoice.Model.notnull()]\n",
        "\n",
        "invoice.shape[0]"
      ],
      "execution_count": 18,
      "outputs": [
        {
          "output_type": "execute_result",
          "data": {
            "text/plain": [
              "490789"
            ]
          },
          "metadata": {
            "tags": []
          },
          "execution_count": 18
        }
      ]
    },
    {
      "cell_type": "code",
      "metadata": {
        "id": "MLH92terzBXx",
        "colab_type": "code",
        "colab": {}
      },
      "source": [
        "# temp = invoice[(invoice['SMM_average']<100.0)]\n",
        "# print(temp.shape)\n",
        "# print(temp[(temp['SMM_average']==temp['SMM_average']\\\n",
        "#                                        .min())][['Customer No.', 'SMM_average']].head())\n",
        "# # fig = px.histogram(x=invoice['SMM_average'], barmode='overlay',marginal='box', nbins=100)\n",
        "# # fig.show()\n",
        "\n",
        "# temp = invoice[(invoice['SnMM_average']<100.0)]\n",
        "# print(temp.shape)\n",
        "# print(temp[(temp['SnMM_average']==temp['SMM_average']\\\n",
        "#                                        .min())][['Customer No.', 'SMM_average']].head())\n",
        "# # fig = px.histogram(x=invoice['SnMM_average'], barmode='overlay',marginal='box', nbins=100)\n",
        "# # fig.show()\n",
        "\n"
      ],
      "execution_count": 19,
      "outputs": []
    },
    {
      "cell_type": "code",
      "metadata": {
        "id": "4pCRBb_OgS4_",
        "colab_type": "code",
        "colab": {}
      },
      "source": [
        "invoice['SMM_average_no0'] = invoice['SMM_average']\n",
        "invoice.loc[invoice['SMM_average']<100.0,'SMM_average_no0'] = 100.0"
      ],
      "execution_count": 20,
      "outputs": []
    },
    {
      "cell_type": "code",
      "metadata": {
        "id": "w2a16wCszYZD",
        "colab_type": "code",
        "colab": {
          "base_uri": "https://localhost:8080/",
          "height": 68
        },
        "outputId": "e42d6a3b-8904-49b4-c211-0dbf515834e7"
      },
      "source": [
        "\n",
        "\n",
        "# print_cols('145058', ['Make', 'Model','plant_city','plant_state', 'Total Value','SMM_average'])\n",
        "\n",
        "invoice[(invoice['SMM_average']<=1000.0)].shape\n",
        "\n",
        "invoice['SnMM_average_no0'] = invoice['SnMM_average']\n",
        "\n",
        "invoice.loc[invoice['SnMM_average']<100.0,'SnMM_average_no0'] = 100.0\n",
        "\n",
        "print(invoice[invoice['SnMM_average_no0']>=100.0].shape[0]+invoice.SnMM_average_no0.isnull().sum() == invoice.shape[0])\n",
        "\n",
        "#checks out\n",
        "\n",
        "temp = invoice[(invoice['kms_lifetime_3L']<.1)]\n",
        "print(temp.shape)\n",
        "\n",
        "# .1*300000 #KMs life left\n",
        "\n",
        "invoice['kms_lifetime_3L_no0'] = invoice['kms_lifetime_3L']\n",
        "\n",
        "invoice.loc[invoice['kms_lifetime_3L']<0.1,'kms_lifetime_3L_no0'] = 0.1\n",
        "\n",
        "invoice[invoice['kms_lifetime_3L_no0']>=0.1].shape[0] == invoice.shape[0]\n",
        "\n"
      ],
      "execution_count": 21,
      "outputs": [
        {
          "output_type": "stream",
          "text": [
            "True\n",
            "(1618, 48)\n"
          ],
          "name": "stdout"
        },
        {
          "output_type": "execute_result",
          "data": {
            "text/plain": [
              "True"
            ]
          },
          "metadata": {
            "tags": []
          },
          "execution_count": 21
        }
      ]
    },
    {
      "cell_type": "code",
      "metadata": {
        "id": "lkq6rw3Hzlvw",
        "colab_type": "code",
        "colab": {
          "base_uri": "https://localhost:8080/",
          "height": 306
        },
        "outputId": "07e13fd4-416c-4839-edc7-ac1b5d1fa29c"
      },
      "source": [
        "temp = invoice.Model.value_counts()\n",
        "# k=0\n",
        "# for i in temp.index:\n",
        "#     print(f'{k}-{i}:{temp[i]}')\n",
        "#     k +=1\n",
        "model_list160 = temp[:160].index\n",
        "\n",
        "invoice['Model_other'] = invoice['Model'].map(lambda x: x if x in model_list160 else 'Other')\n",
        "\n",
        "invoice['Model_other'].value_counts()\n",
        "\n",
        "snmm_columns = ['plant_state','state_news','Make','Model_other',\n",
        "                'KMs Reading','Total Value',\n",
        "                'Frequency_year','SnMM_average_no0','kms_lifetime_3L_no0']\n",
        "                \n",
        "smm_columns = ['plant_state','state_news','Make','Model_other',\n",
        "                'KMs Reading','Total Value',\n",
        "                'Frequency_year','SMM_average_no0','kms_lifetime_3L_no0']\n",
        "invoice_snmm = invoice[snmm_columns]\n",
        "invoice_smm = invoice[smm_columns]\n",
        "invoice_smm.info()\n",
        "\n",
        "# invoice_snmm = invoice_snmm[invoice_snmm.Model.notnull()]\n",
        "\n",
        "invoice_smm.shape"
      ],
      "execution_count": 22,
      "outputs": [
        {
          "output_type": "stream",
          "text": [
            "<class 'pandas.core.frame.DataFrame'>\n",
            "Int64Index: 490789 entries, 0 to 492313\n",
            "Data columns (total 9 columns):\n",
            " #   Column               Non-Null Count   Dtype  \n",
            "---  ------               --------------   -----  \n",
            " 0   plant_state          490789 non-null  object \n",
            " 1   state_news           490789 non-null  object \n",
            " 2   Make                 490789 non-null  object \n",
            " 3   Model_other          490789 non-null  object \n",
            " 4   KMs Reading          490789 non-null  int64  \n",
            " 5   Total Value          490789 non-null  float64\n",
            " 6   Frequency_year       490789 non-null  float64\n",
            " 7   SMM_average_no0      490789 non-null  float64\n",
            " 8   kms_lifetime_3L_no0  490789 non-null  float64\n",
            "dtypes: float64(4), int64(1), object(4)\n",
            "memory usage: 37.4+ MB\n"
          ],
          "name": "stdout"
        },
        {
          "output_type": "execute_result",
          "data": {
            "text/plain": [
              "(490789, 9)"
            ]
          },
          "metadata": {
            "tags": []
          },
          "execution_count": 22
        }
      ]
    },
    {
      "cell_type": "code",
      "metadata": {
        "id": "HQkjZoBfzrnQ",
        "colab_type": "code",
        "colab": {}
      },
      "source": [
        "# invoice_snmm.isnull().sum()\n",
        "\n"
      ],
      "execution_count": 23,
      "outputs": []
    },
    {
      "cell_type": "code",
      "metadata": {
        "id": "ZBNYP-TIz3K7",
        "colab_type": "code",
        "colab": {
          "base_uri": "https://localhost:8080/",
          "height": 221
        },
        "outputId": "c32e2ac2-771d-4bba-f476-4dd4f7fdf639"
      },
      "source": [
        "# LTV calculation\n",
        "\n",
        "invoice_snmm['LTV_snmm'] = invoice_snmm['Frequency_year']*invoice_snmm['SnMM_average_no0']\\\n",
        "    *invoice_snmm['kms_lifetime_3L_no0']*100\n",
        "\n",
        "invoice_snmm['LTV_snmm'] = round(invoice_snmm['LTV_snmm'],4)\n"
      ],
      "execution_count": 24,
      "outputs": [
        {
          "output_type": "stream",
          "text": [
            "/usr/local/lib/python3.6/dist-packages/ipykernel_launcher.py:3: SettingWithCopyWarning: \n",
            "A value is trying to be set on a copy of a slice from a DataFrame.\n",
            "Try using .loc[row_indexer,col_indexer] = value instead\n",
            "\n",
            "See the caveats in the documentation: https://pandas.pydata.org/pandas-docs/stable/user_guide/indexing.html#returning-a-view-versus-a-copy\n",
            "  This is separate from the ipykernel package so we can avoid doing imports until\n",
            "/usr/local/lib/python3.6/dist-packages/ipykernel_launcher.py:5: SettingWithCopyWarning: \n",
            "A value is trying to be set on a copy of a slice from a DataFrame.\n",
            "Try using .loc[row_indexer,col_indexer] = value instead\n",
            "\n",
            "See the caveats in the documentation: https://pandas.pydata.org/pandas-docs/stable/user_guide/indexing.html#returning-a-view-versus-a-copy\n",
            "  \"\"\"\n"
          ],
          "name": "stderr"
        }
      ]
    },
    {
      "cell_type": "code",
      "metadata": {
        "id": "bl0KY5JVnNBm",
        "colab_type": "code",
        "colab": {
          "base_uri": "https://localhost:8080/",
          "height": 221
        },
        "outputId": "a3cdaacb-8f2b-4f25-9a64-49abc099707d"
      },
      "source": [
        "\n",
        "invoice_smm['LTV_smm'] = invoice_smm['Frequency_year']*invoice_smm['SMM_average_no0']\\\n",
        "    *invoice_smm['kms_lifetime_3L_no0']*100\n",
        "\n",
        "invoice_smm['LTV_smm'] = round(invoice_smm['LTV_smm'],4)"
      ],
      "execution_count": 25,
      "outputs": [
        {
          "output_type": "stream",
          "text": [
            "/usr/local/lib/python3.6/dist-packages/ipykernel_launcher.py:2: SettingWithCopyWarning: \n",
            "A value is trying to be set on a copy of a slice from a DataFrame.\n",
            "Try using .loc[row_indexer,col_indexer] = value instead\n",
            "\n",
            "See the caveats in the documentation: https://pandas.pydata.org/pandas-docs/stable/user_guide/indexing.html#returning-a-view-versus-a-copy\n",
            "  \n",
            "/usr/local/lib/python3.6/dist-packages/ipykernel_launcher.py:4: SettingWithCopyWarning: \n",
            "A value is trying to be set on a copy of a slice from a DataFrame.\n",
            "Try using .loc[row_indexer,col_indexer] = value instead\n",
            "\n",
            "See the caveats in the documentation: https://pandas.pydata.org/pandas-docs/stable/user_guide/indexing.html#returning-a-view-versus-a-copy\n",
            "  after removing the cwd from sys.path.\n"
          ],
          "name": "stderr"
        }
      ]
    },
    {
      "cell_type": "code",
      "metadata": {
        "id": "bkOq1QZAz9Zu",
        "colab_type": "code",
        "colab": {}
      },
      "source": [
        "\n",
        "# print(invoice_snmm.LTV_snmm.min())\n",
        "# print(invoice_snmm.LTV_snmm.max())\n",
        "# print(invoice_snmm.LTV_snmm.mean())\n",
        "# print(invoice_snmm.LTV_snmm.median())\n",
        "\n",
        "\n"
      ],
      "execution_count": 26,
      "outputs": []
    },
    {
      "cell_type": "code",
      "metadata": {
        "id": "sIRjnvJc0BXa",
        "colab_type": "code",
        "colab": {
          "base_uri": "https://localhost:8080/",
          "height": 272
        },
        "outputId": "0cc834d7-cd1b-469f-a3df-b4056eb840c7"
      },
      "source": [
        "X = invoice_snmm.drop(['LTV_snmm','Frequency_year',\n",
        "                       'SnMM_average_no0','kms_lifetime_3L_no0'],axis=1)\n",
        "# X = invoice_smm.drop(['LTV_smm','Frequency_year',\n",
        "#                        'SMM_average_no0','kms_lifetime_3L_no0'],axis=1)\n",
        "print(X.shape)\n",
        "\n",
        "X.info()\n",
        "\n",
        "y = invoice_snmm['LTV_snmm']\n",
        "# y=invoice_smm['LTV_smm']\n",
        "y.shape"
      ],
      "execution_count": 27,
      "outputs": [
        {
          "output_type": "stream",
          "text": [
            "(490789, 6)\n",
            "<class 'pandas.core.frame.DataFrame'>\n",
            "Int64Index: 490789 entries, 0 to 492313\n",
            "Data columns (total 6 columns):\n",
            " #   Column       Non-Null Count   Dtype  \n",
            "---  ------       --------------   -----  \n",
            " 0   plant_state  490789 non-null  object \n",
            " 1   state_news   490789 non-null  object \n",
            " 2   Make         490789 non-null  object \n",
            " 3   Model_other  490789 non-null  object \n",
            " 4   KMs Reading  490789 non-null  int64  \n",
            " 5   Total Value  490789 non-null  float64\n",
            "dtypes: float64(1), int64(1), object(4)\n",
            "memory usage: 26.2+ MB\n"
          ],
          "name": "stdout"
        },
        {
          "output_type": "execute_result",
          "data": {
            "text/plain": [
              "(490789,)"
            ]
          },
          "metadata": {
            "tags": []
          },
          "execution_count": 27
        }
      ]
    },
    {
      "cell_type": "code",
      "metadata": {
        "id": "MTRB748L0EL0",
        "colab_type": "code",
        "colab": {}
      },
      "source": [
        "# one-hot encoding\n",
        "X = pd.concat([X, pd.get_dummies(X.drop(columns=['KMs Reading','Total Value'],axis=1)\n",
        "                                 , columns=['plant_state','state_news','Make','Model_other'])], axis=1)"
      ],
      "execution_count": 28,
      "outputs": []
    },
    {
      "cell_type": "code",
      "metadata": {
        "id": "aXWqlVc70S2Y",
        "colab_type": "code",
        "colab": {
          "base_uri": "https://localhost:8080/",
          "height": 34
        },
        "outputId": "804ce6ad-2f24-4bc7-d83c-c26b12f7a68d"
      },
      "source": [
        "X.drop(columns=['plant_state','state_news','Make','Model_other'], axis=1, inplace=True)\n",
        "\n",
        "X.shape"
      ],
      "execution_count": 29,
      "outputs": [
        {
          "output_type": "execute_result",
          "data": {
            "text/plain": [
              "(490789, 217)"
            ]
          },
          "metadata": {
            "tags": []
          },
          "execution_count": 29
        }
      ]
    },
    {
      "cell_type": "code",
      "metadata": {
        "id": "hG-QzGUV0Uzo",
        "colab_type": "code",
        "colab": {}
      },
      "source": [
        "# invoice.Model_other.nunique()+invoice.Make.nunique()+4"
      ],
      "execution_count": 30,
      "outputs": []
    },
    {
      "cell_type": "code",
      "metadata": {
        "id": "8beKDWGC0eud",
        "colab_type": "code",
        "colab": {}
      },
      "source": [
        "X_train, X_test, y_train, y_test = train_test_split(X, y, test_size=0.25, random_state=10)"
      ],
      "execution_count": 31,
      "outputs": []
    },
    {
      "cell_type": "code",
      "metadata": {
        "id": "19SGxJti0gtd",
        "colab_type": "code",
        "colab": {}
      },
      "source": [
        "#Regression"
      ],
      "execution_count": 32,
      "outputs": []
    },
    {
      "cell_type": "code",
      "metadata": {
        "id": "-gf5pu-Q2W_h",
        "colab_type": "code",
        "colab": {}
      },
      "source": [
        "import xgboost as xgb\n",
        "from sklearn.ensemble import RandomForestRegressor\n",
        "from sklearn.ensemble import ExtraTreesRegressor"
      ],
      "execution_count": 33,
      "outputs": []
    },
    {
      "cell_type": "code",
      "metadata": {
        "id": "8m7O2hvk28GC",
        "colab_type": "code",
        "colab": {}
      },
      "source": [
        "xg_reg = xgb.XGBRegressor(objective='reg:squarederror',\n",
        "                        learning_rate = 0.1,\n",
        "                        max_depth = 3)"
      ],
      "execution_count": null,
      "outputs": []
    },
    {
      "cell_type": "code",
      "metadata": {
        "id": "F61fyrQ7777F",
        "colab_type": "code",
        "colab": {
          "base_uri": "https://localhost:8080/",
          "height": 136
        },
        "outputId": "9c3faf53-f4e4-4a05-9f78-e4c68bc35203"
      },
      "source": [
        "xg_reg.fit(X_train,y_train)"
      ],
      "execution_count": null,
      "outputs": [
        {
          "output_type": "execute_result",
          "data": {
            "text/plain": [
              "XGBRegressor(base_score=0.5, booster='gbtree', colsample_bylevel=1,\n",
              "             colsample_bynode=1, colsample_bytree=1, gamma=0,\n",
              "             importance_type='gain', learning_rate=0.1, max_delta_step=0,\n",
              "             max_depth=3, min_child_weight=1, missing=None, n_estimators=100,\n",
              "             n_jobs=1, nthread=None, objective='reg:squarederror',\n",
              "             random_state=0, reg_alpha=0, reg_lambda=1, scale_pos_weight=1,\n",
              "             seed=None, silent=None, subsample=1, verbosity=1)"
            ]
          },
          "metadata": {
            "tags": []
          },
          "execution_count": 81
        }
      ]
    },
    {
      "cell_type": "code",
      "metadata": {
        "id": "duwMsxlV8cfV",
        "colab_type": "code",
        "colab": {}
      },
      "source": [
        "ypred_xgb = xg_reg.predict(X_test)"
      ],
      "execution_count": null,
      "outputs": []
    },
    {
      "cell_type": "code",
      "metadata": {
        "id": "CnDy3wCh8lb_",
        "colab_type": "code",
        "colab": {}
      },
      "source": [
        "# df = X_test.copy()\n",
        "# df['ypred_xgb'] = ypred_xgb\n",
        "# df.to_csv('ypred_xgb.csv')\n",
        "# !cp ypred_xgb.csv \"drive/My Drive/GreyAtomCapstone/\"\n",
        "# df=None"
      ],
      "execution_count": null,
      "outputs": []
    },
    {
      "cell_type": "code",
      "metadata": {
        "id": "0Ln8K5uhNGyA",
        "colab_type": "code",
        "colab": {}
      },
      "source": [
        "# pickle_out = open(\"xgb_model.pickle\",\"wb\")\n",
        "# pickle.dump(xg_reg, pickle_out)\n",
        "# pickle_out.close()\n",
        "# !cp xgb_model.pickle \"drive/My Drive/GreyAtomCapstone/\""
      ],
      "execution_count": null,
      "outputs": []
    },
    {
      "cell_type": "markdown",
      "metadata": {
        "id": "Pq3Adpme9bu3",
        "colab_type": "text"
      },
      "source": [
        "---"
      ]
    },
    {
      "cell_type": "code",
      "metadata": {
        "id": "iygz_pKW9WRZ",
        "colab_type": "code",
        "colab": {}
      },
      "source": [
        "rf = RandomForestRegressor()"
      ],
      "execution_count": null,
      "outputs": []
    },
    {
      "cell_type": "code",
      "metadata": {
        "id": "HDTpdV3w96Wp",
        "colab_type": "code",
        "colab": {
          "base_uri": "https://localhost:8080/",
          "height": 136
        },
        "outputId": "0250ae57-0083-42b4-eed2-c42ddb6cd0d6"
      },
      "source": [
        "rf.fit(X_train,y_train)"
      ],
      "execution_count": null,
      "outputs": [
        {
          "output_type": "execute_result",
          "data": {
            "text/plain": [
              "RandomForestRegressor(bootstrap=True, ccp_alpha=0.0, criterion='mse',\n",
              "                      max_depth=None, max_features='auto', max_leaf_nodes=None,\n",
              "                      max_samples=None, min_impurity_decrease=0.0,\n",
              "                      min_impurity_split=None, min_samples_leaf=1,\n",
              "                      min_samples_split=2, min_weight_fraction_leaf=0.0,\n",
              "                      n_estimators=100, n_jobs=None, oob_score=False,\n",
              "                      random_state=None, verbose=0, warm_start=False)"
            ]
          },
          "metadata": {
            "tags": []
          },
          "execution_count": 39
        }
      ]
    },
    {
      "cell_type": "code",
      "metadata": {
        "id": "gPJu_K5s-Pq9",
        "colab_type": "code",
        "colab": {}
      },
      "source": [
        "ypred_rf = rf.predict(X_test)"
      ],
      "execution_count": null,
      "outputs": []
    },
    {
      "cell_type": "code",
      "metadata": {
        "id": "-IWPGGjq-YlB",
        "colab_type": "code",
        "colab": {}
      },
      "source": [
        "# df = X_test.copy()\n",
        "# df['ypred_rf'] = ypred_rf\n",
        "# df.to_csv('ypred_rf.csv')\n",
        "# !cp ypred_rf.csv \"drive/My Drive/GreyAtomCapstone/\"\n",
        "# df=None"
      ],
      "execution_count": null,
      "outputs": []
    },
    {
      "cell_type": "code",
      "metadata": {
        "id": "xyCDs4ZHM5MW",
        "colab_type": "code",
        "colab": {}
      },
      "source": [
        "# pickle_out = open(\"rf_model.pickle\",\"wb\")\n",
        "# pickle.dump(rf, pickle_out)\n",
        "# pickle_out.close()\n",
        "# !cp rf_model.pickle \"drive/My Drive/GreyAtomCapstone/\""
      ],
      "execution_count": null,
      "outputs": []
    },
    {
      "cell_type": "markdown",
      "metadata": {
        "id": "5aLZsUVV_wqo",
        "colab_type": "text"
      },
      "source": [
        "---"
      ]
    },
    {
      "cell_type": "code",
      "metadata": {
        "id": "LImy_8c-_un7",
        "colab_type": "code",
        "colab": {}
      },
      "source": [
        "etr = ExtraTreesRegressor()"
      ],
      "execution_count": null,
      "outputs": []
    },
    {
      "cell_type": "code",
      "metadata": {
        "id": "sSuTuqE_B7I3",
        "colab_type": "code",
        "colab": {
          "base_uri": "https://localhost:8080/",
          "height": 136
        },
        "outputId": "bf2b6573-fbcc-4ada-9662-740e7843b2e1"
      },
      "source": [
        "etr.fit(X_train,y_train)"
      ],
      "execution_count": null,
      "outputs": [
        {
          "output_type": "execute_result",
          "data": {
            "text/plain": [
              "ExtraTreesRegressor(bootstrap=False, ccp_alpha=0.0, criterion='mse',\n",
              "                    max_depth=None, max_features='auto', max_leaf_nodes=None,\n",
              "                    max_samples=None, min_impurity_decrease=0.0,\n",
              "                    min_impurity_split=None, min_samples_leaf=1,\n",
              "                    min_samples_split=2, min_weight_fraction_leaf=0.0,\n",
              "                    n_estimators=100, n_jobs=None, oob_score=False,\n",
              "                    random_state=None, verbose=0, warm_start=False)"
            ]
          },
          "metadata": {
            "tags": []
          },
          "execution_count": 43
        }
      ]
    },
    {
      "cell_type": "code",
      "metadata": {
        "id": "jVOCx_muCFd5",
        "colab_type": "code",
        "colab": {}
      },
      "source": [
        "ypred_etr = etr.predict(X_test)"
      ],
      "execution_count": null,
      "outputs": []
    },
    {
      "cell_type": "code",
      "metadata": {
        "id": "tes5ZeifCFnF",
        "colab_type": "code",
        "colab": {}
      },
      "source": [
        "# df = X_test.copy()\n",
        "# df['ypred_etr'] = ypred_etr\n",
        "# df.to_csv('ypred_etr.csv')\n",
        "# !cp ypred_etr.csv \"drive/My Drive/GreyAtomCapstone/\"\n",
        "# df=None"
      ],
      "execution_count": null,
      "outputs": []
    },
    {
      "cell_type": "code",
      "metadata": {
        "id": "QhP2Lj99Kqv-",
        "colab_type": "code",
        "colab": {}
      },
      "source": [
        "# pickle_out = open(\"etr_model.pickle\",\"wb\")\n",
        "# pickle.dump(etr, pickle_out)\n",
        "# pickle_out.close()\n",
        "# !cp etr_model.pickle \"drive/My Drive/GreyAtomCapstone/\""
      ],
      "execution_count": null,
      "outputs": []
    },
    {
      "cell_type": "code",
      "metadata": {
        "id": "JGlCnF-BKXff",
        "colab_type": "code",
        "colab": {}
      },
      "source": [
        "# example_dict = {1:\"6\",2:\"2\",3:\"f\"}\n",
        "\n",
        "# pickle_out = open(\"dict.pickle\",\"wb\")\n",
        "# pickle.dump(example_dict, pickle_out)\n",
        "# pickle_out.close()\n",
        "# !cp dict.pickle \"drive/My Drive/GreyAtomCapstone/\""
      ],
      "execution_count": null,
      "outputs": []
    },
    {
      "cell_type": "markdown",
      "metadata": {
        "id": "MgwSObOSCwrc",
        "colab_type": "text"
      },
      "source": [
        "---"
      ]
    },
    {
      "cell_type": "code",
      "metadata": {
        "id": "k7NS36IADVls",
        "colab_type": "code",
        "colab": {}
      },
      "source": [
        "from sklearn.metrics import mean_squared_error"
      ],
      "execution_count": null,
      "outputs": []
    },
    {
      "cell_type": "code",
      "metadata": {
        "id": "T3nxrqM8klgp",
        "colab_type": "code",
        "colab": {
          "base_uri": "https://localhost:8080/",
          "height": 34
        },
        "outputId": "69895d27-d8e9-4875-c4ee-4f09eb8f346a"
      },
      "source": [
        "y_test.isnull().sum()"
      ],
      "execution_count": null,
      "outputs": [
        {
          "output_type": "execute_result",
          "data": {
            "text/plain": [
              "374"
            ]
          },
          "metadata": {
            "tags": []
          },
          "execution_count": 42
        }
      ]
    },
    {
      "cell_type": "code",
      "metadata": {
        "id": "lQYZTYGCCzIX",
        "colab_type": "code",
        "colab": {
          "base_uri": "https://localhost:8080/",
          "height": 68
        },
        "outputId": "c8545038-f33e-462b-9c07-593ab7b14923"
      },
      "source": [
        "print('XGBoost:')\n",
        "score = xg_reg.score(X_test, y_test)\n",
        "rmse = np.sqrt(mean_squared_error(y_test, ypred_xgb))\n",
        "print(f'R2:{score}\\nRMSE:{rmse}')"
      ],
      "execution_count": null,
      "outputs": [
        {
          "output_type": "stream",
          "text": [
            "XGBoost:\n",
            "R2:0.6127057733422691\n",
            "RMSE:4969040.92601269\n"
          ],
          "name": "stdout"
        }
      ]
    },
    {
      "cell_type": "code",
      "metadata": {
        "id": "A1jQOzZ0E0wy",
        "colab_type": "code",
        "colab": {
          "base_uri": "https://localhost:8080/",
          "height": 68
        },
        "outputId": "10d9bf40-8f65-4910-bbae-72e628711b75"
      },
      "source": [
        "# print('RF:')\n",
        "# print(f'R2:{rf.score(X_test, y_test)}\\nRMSE:{np.sqrt(mean_squared_error(y_test, ypred_rf))}')"
      ],
      "execution_count": null,
      "outputs": [
        {
          "output_type": "stream",
          "text": [
            "RF:\n",
            "R2:0.5715723515913891\n",
            "RMSE:5226257.541018996\n"
          ],
          "name": "stdout"
        }
      ]
    },
    {
      "cell_type": "code",
      "metadata": {
        "id": "0CgHEifZEzo2",
        "colab_type": "code",
        "colab": {
          "base_uri": "https://localhost:8080/",
          "height": 68
        },
        "outputId": "bac29e30-d1ff-47b1-f376-2724c080c364"
      },
      "source": [
        "# print('ETR:')\n",
        "# print(f'R2:{etr.score(X_test, y_test)}\\nRMSE:{np.sqrt(mean_squared_error(y_test, ypred_etr))}')"
      ],
      "execution_count": null,
      "outputs": [
        {
          "output_type": "stream",
          "text": [
            "ETR:\n",
            "R2:0.5337629272229472\n",
            "RMSE:5451995.18833136\n"
          ],
          "name": "stdout"
        }
      ]
    },
    {
      "cell_type": "code",
      "metadata": {
        "id": "s3-j3njP_Xez",
        "colab_type": "code",
        "colab": {}
      },
      "source": [
        "#SVM for poly kernel"
      ],
      "execution_count": null,
      "outputs": []
    },
    {
      "cell_type": "code",
      "metadata": {
        "id": "vNV3Bz4E-9f3",
        "colab_type": "code",
        "colab": {}
      },
      "source": [
        "svr_rbf = SVR(kernel='rbf', C=1e3)\n",
        "svr_poly = SVR(kernel='poly', C=1e3)"
      ],
      "execution_count": 34,
      "outputs": []
    },
    {
      "cell_type": "code",
      "metadata": {
        "id": "T5xSYM8o-mT1",
        "colab_type": "code",
        "colab": {}
      },
      "source": [
        "svr_poly_fit = svr_poly.fit(X_train, y_train)\n",
        "y_poly = svr_poly_fit.predict(X_test)"
      ],
      "execution_count": null,
      "outputs": []
    },
    {
      "cell_type": "code",
      "metadata": {
        "id": "94ffHC0I_OhG",
        "colab_type": "code",
        "colab": {}
      },
      "source": [
        "df = x_test.copy()\n",
        "df['ypred_svm_poly'] = y_poly\n",
        "df.to_csv('ypred_svm_poly.csv')\n",
        "!cp ypred_svm_poly.csv \"drive/My Drive/GreyAtomCapstone/\"\n",
        "df=None"
      ],
      "execution_count": null,
      "outputs": []
    },
    {
      "cell_type": "code",
      "metadata": {
        "id": "BBNbhzzvNqOK",
        "colab_type": "code",
        "colab": {}
      },
      "source": [
        "pickle_out = open(\"svm_poly_model.pickle\",\"wb\")\n",
        "pickle.dump(svr_poly, pickle_out)\n",
        "pickle_out.close()\n",
        "!cp svm_poly_model.pickle \"drive/My Drive/GreyAtomCapstone/\""
      ],
      "execution_count": null,
      "outputs": []
    },
    {
      "cell_type": "code",
      "metadata": {
        "id": "dGJN3P74AWaB",
        "colab_type": "code",
        "colab": {}
      },
      "source": [
        ""
      ],
      "execution_count": null,
      "outputs": []
    }
  ]
}