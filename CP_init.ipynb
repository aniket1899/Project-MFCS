{
 "cells": [
  {
   "cell_type": "markdown",
   "metadata": {},
   "source": [
    "### Capstone Project - Mahindra"
   ]
  },
  {
   "cell_type": "markdown",
   "metadata": {},
   "source": [
    "#### Mahindra First Choice Services (MFCS) is a company of Mahindra Group and is India’s leading chain of multi-brand car workshops with over 335+ workshops present in 267+ towns & 24 states. It has serviced over 10,50,000 cars. The company aims to establish countrywide network of over 400 workshops by March 2018.\n",
    "---\n",
    "#### Mahindra would now like to leverage the data that they have and address the key issues they have. Read along to know how you can help them improve their business.\n",
    "---\n",
    "#### The dataset consist of three aspects:\n",
    "\n",
    "* Customer data: where the details of the customer like the car owned, state and place of residence, order type, etc are present. Data dimension is of 534000 Customer entries\n",
    "* Invoice data: where information related to customer visits and transactions are recorded, whether a customer as insurance claims, bifurcation of the amount paid, for what type of service did the customer came for, etc…\n",
    "* Material Inventory: where information related to what kind of service did the customer took and what kind of material was used to service, Labor information and the cost for the service, Plant and plant name where the customer took the service.\n",
    "---"
   ]
  },
  {
   "cell_type": "markdown",
   "metadata": {},
   "source": [
    "#### Objective\n",
    "* Geolocation Based Customer Analysis:\n",
    "\n",
    "    The idea is to explore how various factors like car make & model, time and type of service etc. vary with location. Since the servicing industry is local in nature, this kind of an analysis could possibly render some really interesting business insights.\n",
    "\n",
    "    Furthermore, this analysis will enable us to formulate more concrete machine learning problems.\n",
    "\n",
    "    From the data at hand it is possible to extract insights about customer behaviour especially the following questions can be addressed\n",
    "---\n",
    "* Problem Statement-1\n",
    "\n",
    "    Identifying the ownership pattern of cars throughout the country. This also captures the problem wherein information regarding the spending patterns can be identified Expected Business Outcome: Mahindra First Choice Services will be benefited in multiple ways. Knowing the ownership pattern targeted marketing campaigns could be carried out. Knowing the spending patterns services could be suited to the particular spending pattern.\n",
    "---\n",
    "* Problem Statement-2\n",
    "\n",
    "    Identify the type of order each state receives and present it as an interactive visualization. Expected Business Outcome: This could potentially give information about how Mahindra First Choice needs to be prepared to tackle various seasonal cases\n",
    "---\n",
    "* Market Segmentation:\n",
    "\n",
    "    Market segmentation is the process of dividing a market of potential customers into internally homogeneous and mutually heterogeneous groups or segments, based on different characteristics captured in the data. Groups created through such a segmentation exercise many times reveal behavioral patterns which are different from generally accepted segments by the business. The exercise is broadly known as “clustering” and is aimed at finding the consumers who will respond similarly to various stimuli by detecting underlying behavior patterns.\n",
    "\n",
    "    Though clustering falls under a Machine Learning problem category called unsupervised learning, which requires extensive efforts, it is possible to carry out a visual analysis in a relatively short timespan.\n",
    "---\n",
    "* Problem Statement: \n",
    "\n",
    "    Customer Lifetime value prediction - Based on Customer segments, predict the revenue that can be extracted from each segment over a life of the car -Regression/Time Series.\n",
    "---\n",
    "* Expected Business Outcome: \n",
    "\n",
    "    This would be beneficial to Mahindra First Choice Services to identify the various segments in the market. Also, these segmentations would allow for targeted marketing activities and sales promotions.\n",
    "---\n",
    "* Approach\n",
    "    You should perform the following activities\n",
    "\n",
    "    * Cleaning the data\n",
    "    * Processing and preparing the data for further analysis\n",
    "    * Analyzing data through various visual tools\n",
    "    * Building Predictive Models\n",
    "    * Data Cleaning : In this process, you can\n",
    "    * Come up with effective measures to handle large volume data.\n",
    "    * Impute the missing values.\n",
    "    * Encode the categorical variables.\n",
    "    * Data Processing\n",
    "    * Preparing the data by tagging geolocation with positions\n",
    "    * Deriving Relevant features from multiple tables.\n",
    "    * Aggregating information for each state for countrywide analysis eg. number of Maruti Cars in each state etc.\n",
    "    * Further Recommended Problem Statements\n",
    "    * Inventory Management and Recommendation\n",
    "    * We can find different relations on what inventory is used at what scale in how much amount in different states, and their relations with car model and what type of customer it was. With years of data, we can see how the trend changes, what type of demand is increasing, and this correlation with different car companies and models might give a good insight and prediction on requirements for the future.\n",
    "---\n",
    "* Marketing Recommendation\n",
    "\n",
    "    Based on how much revenue is generated from each marketing source, and how has it varied one can find what type of customers use which marketing source, average income per marketing source and how much does it cost. Thus with a time trend, one can predict where to invest your marketing resources and where to cut down. This can be combined with other data like type of vehicles and type of repair done for more engaging insights."
   ]
  },
  {
   "cell_type": "code",
   "execution_count": 2,
   "metadata": {},
   "outputs": [],
   "source": [
    "#code"
   ]
  },
  {
   "cell_type": "code",
   "execution_count": 3,
   "metadata": {},
   "outputs": [],
   "source": [
    "import pandas as pd\n",
    "import numpy as np"
   ]
  },
  {
   "cell_type": "code",
   "execution_count": 4,
   "metadata": {},
   "outputs": [],
   "source": [
    "cust = pd.read_excel('data/Customer_Data.xlsx')"
   ]
  },
  {
   "cell_type": "code",
   "execution_count": 5,
   "metadata": {},
   "outputs": [
    {
     "data": {
      "text/html": [
       "<div>\n",
       "<style scoped>\n",
       "    .dataframe tbody tr th:only-of-type {\n",
       "        vertical-align: middle;\n",
       "    }\n",
       "\n",
       "    .dataframe tbody tr th {\n",
       "        vertical-align: top;\n",
       "    }\n",
       "\n",
       "    .dataframe thead th {\n",
       "        text-align: right;\n",
       "    }\n",
       "</style>\n",
       "<table border=\"1\" class=\"dataframe\">\n",
       "  <thead>\n",
       "    <tr style=\"text-align: right;\">\n",
       "      <th></th>\n",
       "      <th>Business Partner</th>\n",
       "      <th>Customer No.</th>\n",
       "      <th>Partner Type</th>\n",
       "      <th>Data Origin</th>\n",
       "      <th>Title</th>\n",
       "      <th>Marital Status</th>\n",
       "      <th>Occupation</th>\n",
       "      <th>Date of Birth</th>\n",
       "      <th>Death date</th>\n",
       "    </tr>\n",
       "  </thead>\n",
       "  <tbody>\n",
       "    <tr>\n",
       "      <th>0</th>\n",
       "      <td>31</td>\n",
       "      <td>1</td>\n",
       "      <td>1.0</td>\n",
       "      <td>Z001</td>\n",
       "      <td>NaN</td>\n",
       "      <td>NaN</td>\n",
       "      <td>NaN</td>\n",
       "      <td>NaN</td>\n",
       "      <td>NaT</td>\n",
       "    </tr>\n",
       "    <tr>\n",
       "      <th>1</th>\n",
       "      <td>32</td>\n",
       "      <td>2</td>\n",
       "      <td>1.0</td>\n",
       "      <td>Z005</td>\n",
       "      <td>NaN</td>\n",
       "      <td>NaN</td>\n",
       "      <td>NaN</td>\n",
       "      <td>NaN</td>\n",
       "      <td>NaT</td>\n",
       "    </tr>\n",
       "    <tr>\n",
       "      <th>2</th>\n",
       "      <td>34</td>\n",
       "      <td>4</td>\n",
       "      <td>1.0</td>\n",
       "      <td>Z005</td>\n",
       "      <td>NaN</td>\n",
       "      <td>2.0</td>\n",
       "      <td>NaN</td>\n",
       "      <td>NaN</td>\n",
       "      <td>NaT</td>\n",
       "    </tr>\n",
       "    <tr>\n",
       "      <th>3</th>\n",
       "      <td>35</td>\n",
       "      <td>5</td>\n",
       "      <td>1.0</td>\n",
       "      <td>Z005</td>\n",
       "      <td>NaN</td>\n",
       "      <td>NaN</td>\n",
       "      <td>NaN</td>\n",
       "      <td>NaN</td>\n",
       "      <td>NaT</td>\n",
       "    </tr>\n",
       "    <tr>\n",
       "      <th>4</th>\n",
       "      <td>42</td>\n",
       "      <td>7</td>\n",
       "      <td>1.0</td>\n",
       "      <td>Z008</td>\n",
       "      <td>NaN</td>\n",
       "      <td>NaN</td>\n",
       "      <td>NaN</td>\n",
       "      <td>NaN</td>\n",
       "      <td>NaT</td>\n",
       "    </tr>\n",
       "  </tbody>\n",
       "</table>\n",
       "</div>"
      ],
      "text/plain": [
       "  Business Partner Customer No.  Partner Type Data Origin  Title  \\\n",
       "0               31            1           1.0        Z001    NaN   \n",
       "1               32            2           1.0        Z005    NaN   \n",
       "2               34            4           1.0        Z005    NaN   \n",
       "3               35            5           1.0        Z005    NaN   \n",
       "4               42            7           1.0        Z008    NaN   \n",
       "\n",
       "   Marital Status  Occupation Date of Birth Death date  \n",
       "0             NaN         NaN           NaN        NaT  \n",
       "1             NaN         NaN           NaN        NaT  \n",
       "2             2.0         NaN           NaN        NaT  \n",
       "3             NaN         NaN           NaN        NaT  \n",
       "4             NaN         NaN           NaN        NaT  "
      ]
     },
     "execution_count": 5,
     "metadata": {},
     "output_type": "execute_result"
    }
   ],
   "source": [
    "cust.head()"
   ]
  },
  {
   "cell_type": "code",
   "execution_count": 6,
   "metadata": {},
   "outputs": [
    {
     "data": {
      "text/plain": [
       "(555338, 9)"
      ]
     },
     "execution_count": 6,
     "metadata": {},
     "output_type": "execute_result"
    }
   ],
   "source": [
    "cust.shape"
   ]
  },
  {
   "cell_type": "code",
   "execution_count": 7,
   "metadata": {},
   "outputs": [
    {
     "name": "stdout",
     "output_type": "stream",
     "text": [
      "<class 'pandas.core.frame.DataFrame'>\n",
      "RangeIndex: 555338 entries, 0 to 555337\n",
      "Data columns (total 9 columns):\n",
      "Business Partner    555338 non-null object\n",
      "Customer No.        555338 non-null object\n",
      "Partner Type        555260 non-null float64\n",
      "Data Origin         555202 non-null object\n",
      "Title               509031 non-null float64\n",
      "Marital Status      16037 non-null float64\n",
      "Occupation          14558 non-null float64\n",
      "Date of Birth       13444 non-null object\n",
      "Death date          663 non-null datetime64[ns]\n",
      "dtypes: datetime64[ns](1), float64(4), object(4)\n",
      "memory usage: 38.1+ MB\n"
     ]
    }
   ],
   "source": [
    "cust.info()"
   ]
  },
  {
   "cell_type": "code",
   "execution_count": null,
   "metadata": {},
   "outputs": [],
   "source": []
  }
 ],
 "metadata": {
  "kernelspec": {
   "display_name": "Python 3",
   "language": "python",
   "name": "python3"
  },
  "language_info": {
   "codemirror_mode": {
    "name": "ipython",
    "version": 3
   },
   "file_extension": ".py",
   "mimetype": "text/x-python",
   "name": "python",
   "nbconvert_exporter": "python",
   "pygments_lexer": "ipython3",
   "version": "3.7.3"
  }
 },
 "nbformat": 4,
 "nbformat_minor": 2
}
