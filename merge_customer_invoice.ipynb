{
 "cells": [
  {
   "cell_type": "markdown",
   "metadata": {},
   "source": [
    "### Merging Customer and Final invoice"
   ]
  },
  {
   "cell_type": "markdown",
   "metadata": {},
   "source": [
    "* Imports"
   ]
  },
  {
   "cell_type": "code",
   "execution_count": 1,
   "metadata": {},
   "outputs": [],
   "source": [
    "import numpy as np\n",
    "import pandas as pd\n",
    "import re"
   ]
  },
  {
   "cell_type": "markdown",
   "metadata": {},
   "source": [
    "* Functions"
   ]
  },
  {
   "cell_type": "code",
   "execution_count": 2,
   "metadata": {},
   "outputs": [],
   "source": [
    "def get_master_dict(df):\n",
    "    cols = df.columns\n",
    "    if len(cols) != 2:\n",
    "        return r'Only 2 columns allowed (key, description)'\n",
    "    return df.dropna().set_index(cols[0]).to_dict()[cols[1]]"
   ]
  },
  {
   "cell_type": "markdown",
   "metadata": {},
   "source": [
    "* Code"
   ]
  },
  {
   "cell_type": "code",
   "execution_count": 3,
   "metadata": {},
   "outputs": [],
   "source": [
    "xls = pd.ExcelFile('data/Customer_Data.xlsx')\n",
    "customer = pd.read_excel(xls, 'Sheet1')\n",
    "customer_master = pd.read_excel(xls, 'Sheet2', skiprows=1)"
   ]
  },
  {
   "cell_type": "code",
   "execution_count": 4,
   "metadata": {},
   "outputs": [],
   "source": [
    "invoice = pd.read_csv('data/invoice_refined.csv', low_memory=False)"
   ]
  },
  {
   "cell_type": "code",
   "execution_count": 5,
   "metadata": {},
   "outputs": [
    {
     "data": {
      "text/plain": [
       "Unnamed: 0               int64\n",
       "Area / Locality         object\n",
       "CITY                    object\n",
       "Cash /Cashless Type     object\n",
       "Claim No.               object\n",
       "Cust Type               object\n",
       "Customer No.            object\n",
       "District                object\n",
       "Expiry Date             object\n",
       "Gate Pass Date          object\n",
       "Gate Pass Time          object\n",
       "Invoice Date            object\n",
       "Invoice No               int64\n",
       "Invoice Time            object\n",
       "Job Card No              int64\n",
       "JobCard Date            object\n",
       "JobCard Time            object\n",
       "KMs Reading              int64\n",
       "Labour Total           float64\n",
       "Make                    object\n",
       "Misc Total             float64\n",
       "Model                   object\n",
       "ODN No.                float64\n",
       "OSL Total              float64\n",
       "Order Type              object\n",
       "Outstanding Amt        float64\n",
       "Parts Total            float64\n",
       "Plant                   object\n",
       "Plant Name1             object\n",
       "Policy no.              object\n",
       "Print Status            object\n",
       "Recovrbl Exp           float64\n",
       "Regn No                 object\n",
       "Technician Name         object\n",
       "Total Amt Wtd Tax.     float64\n",
       "Total Value            float64\n",
       "User ID                 object\n",
       "plant_city              object\n",
       "plant_state             object\n",
       "invoice_month            int64\n",
       "invoice_year             int64\n",
       "dtype: object"
      ]
     },
     "execution_count": 5,
     "metadata": {},
     "output_type": "execute_result"
    }
   ],
   "source": [
    "invoice.dtypes"
   ]
  },
  {
   "cell_type": "markdown",
   "metadata": {},
   "source": [
    "---"
   ]
  },
  {
   "cell_type": "markdown",
   "metadata": {},
   "source": [
    "#### Customer data merge"
   ]
  },
  {
   "cell_type": "code",
   "execution_count": 6,
   "metadata": {},
   "outputs": [
    {
     "name": "stdout",
     "output_type": "stream",
     "text": [
      "<class 'pandas.core.frame.DataFrame'>\n",
      "RangeIndex: 555338 entries, 0 to 555337\n",
      "Data columns (total 9 columns):\n",
      "Business Partner    555338 non-null object\n",
      "Customer No.        555338 non-null object\n",
      "Partner Type        555260 non-null float64\n",
      "Data Origin         555202 non-null object\n",
      "Title               509031 non-null float64\n",
      "Marital Status      16037 non-null float64\n",
      "Occupation          14558 non-null float64\n",
      "Date of Birth       13444 non-null object\n",
      "Death date          663 non-null datetime64[ns]\n",
      "dtypes: datetime64[ns](1), float64(4), object(4)\n",
      "memory usage: 38.1+ MB\n"
     ]
    }
   ],
   "source": [
    "customer.info()"
   ]
  },
  {
   "cell_type": "code",
   "execution_count": 7,
   "metadata": {},
   "outputs": [
    {
     "data": {
      "text/plain": [
       "(555338, 9)"
      ]
     },
     "execution_count": 7,
     "metadata": {},
     "output_type": "execute_result"
    }
   ],
   "source": [
    "customer.shape"
   ]
  },
  {
   "cell_type": "code",
   "execution_count": 8,
   "metadata": {},
   "outputs": [
    {
     "data": {
      "text/plain": [
       "555338"
      ]
     },
     "execution_count": 8,
     "metadata": {},
     "output_type": "execute_result"
    }
   ],
   "source": [
    "customer['Customer No.'].nunique()"
   ]
  },
  {
   "cell_type": "code",
   "execution_count": 9,
   "metadata": {},
   "outputs": [
    {
     "name": "stdout",
     "output_type": "stream",
     "text": [
      "<class 'pandas.core.frame.DataFrame'>\n",
      "RangeIndex: 31 entries, 0 to 30\n",
      "Data columns (total 15 columns):\n",
      "Type              7 non-null float64\n",
      "Description       7 non-null object\n",
      "Unnamed: 2        0 non-null float64\n",
      "Origin            22 non-null object\n",
      "Description.1     22 non-null object\n",
      "Short Name        22 non-null object\n",
      "Unnamed: 6        0 non-null float64\n",
      "Key               4 non-null float64\n",
      "Title             4 non-null object\n",
      "Unnamed: 9        0 non-null float64\n",
      "Marital Status    5 non-null float64\n",
      "Short Name.1      5 non-null object\n",
      "Unnamed: 12       0 non-null float64\n",
      "Occupation        31 non-null int64\n",
      "Description.2     31 non-null object\n",
      "dtypes: float64(7), int64(1), object(7)\n",
      "memory usage: 3.7+ KB\n"
     ]
    }
   ],
   "source": [
    "customer_master.info()"
   ]
  },
  {
   "cell_type": "code",
   "execution_count": 10,
   "metadata": {},
   "outputs": [],
   "source": [
    "customer_master = customer_master[['Type', 'Description', 'Origin', 'Description.1',\n",
    "       'Short Name', 'Key', 'Title', \n",
    "       'Marital Status', 'Short Name.1', 'Occupation',\n",
    "       'Description.2']]"
   ]
  },
  {
   "cell_type": "code",
   "execution_count": 11,
   "metadata": {},
   "outputs": [
    {
     "name": "stdout",
     "output_type": "stream",
     "text": [
      "<class 'pandas.core.frame.DataFrame'>\n",
      "RangeIndex: 31 entries, 0 to 30\n",
      "Data columns (total 11 columns):\n",
      "Type              7 non-null float64\n",
      "Description       7 non-null object\n",
      "Origin            22 non-null object\n",
      "Description.1     22 non-null object\n",
      "Short Name        22 non-null object\n",
      "Key               4 non-null float64\n",
      "Title             4 non-null object\n",
      "Marital Status    5 non-null float64\n",
      "Short Name.1      5 non-null object\n",
      "Occupation        31 non-null int64\n",
      "Description.2     31 non-null object\n",
      "dtypes: float64(3), int64(1), object(7)\n",
      "memory usage: 2.7+ KB\n"
     ]
    }
   ],
   "source": [
    "customer_master.info()"
   ]
  },
  {
   "cell_type": "code",
   "execution_count": 12,
   "metadata": {},
   "outputs": [],
   "source": [
    "customer['Partner Type Desc'] = customer['Partner Type'].map(get_master_dict(customer_master.iloc[:,0:2]))"
   ]
  },
  {
   "cell_type": "code",
   "execution_count": 13,
   "metadata": {},
   "outputs": [],
   "source": [
    "customer['Data Origin Desc'] = customer['Data Origin'].map(get_master_dict(customer_master.iloc[:,2:4]))"
   ]
  },
  {
   "cell_type": "code",
   "execution_count": 14,
   "metadata": {},
   "outputs": [],
   "source": [
    "customer['Title Desc'] = customer['Title'].map(get_master_dict(customer_master.loc[:,['Key','Title']]))"
   ]
  },
  {
   "cell_type": "code",
   "execution_count": 15,
   "metadata": {},
   "outputs": [],
   "source": [
    "customer['Marital Status Desc'] = customer['Marital Status'].map(get_master_dict(\n",
    "    customer_master.loc[:,['Marital Status','Short Name.1']]))"
   ]
  },
  {
   "cell_type": "code",
   "execution_count": 16,
   "metadata": {},
   "outputs": [],
   "source": [
    "customer['Occupation Desc'] = customer['Occupation'].map(get_master_dict(\n",
    "    customer_master.loc[:,['Occupation','Description.2']]))"
   ]
  },
  {
   "cell_type": "code",
   "execution_count": 17,
   "metadata": {},
   "outputs": [
    {
     "name": "stdout",
     "output_type": "stream",
     "text": [
      "Partner Type Desc\n",
      "Retail               554967\n",
      "NaN                      78\n",
      "Corporate                68\n",
      "Fleet                    62\n",
      "Insurance Company        57\n",
      "Contact Person           56\n",
      "Employee                 48\n",
      "Surveyor                  2\n",
      "Name: Partner Type Desc, dtype: int64\n",
      "---\n",
      "\n",
      "Data Origin Desc\n",
      "Reference - Customer                149861\n",
      "Reference - Employee                121660\n",
      "Camp - Outdoor                       63237\n",
      "Camp - Workshop                      38326\n",
      "Fleet                                36801\n",
      "Spotted the outlet                   29780\n",
      "Other outdoor activity               28828\n",
      "Outdoor Sales Activity               15382\n",
      "Hoardings/Outdoor Advertisements     13967\n",
      "Just Dial/Other helpline             12122\n",
      "Newspaper AD                          8118\n",
      "Float activity                        8023\n",
      "Company website                       6260\n",
      "Newspaper leaflet                     5685\n",
      "Emailers                              5082\n",
      "Insurance Company                     4014\n",
      "Petrol pump activity                  3840\n",
      "Reference - Used car dealer           2069\n",
      "Television AD                          745\n",
      "Snapdeal/Other websites                735\n",
      "Mahindra Sister concern Employee       590\n",
      "NaN                                    136\n",
      "Radio                                   77\n",
      "Name: Data Origin Desc, dtype: int64\n",
      "---\n",
      "\n",
      "Title Desc\n",
      "Mr.    483932\n",
      "NaN     46307\n",
      "Ms.     25099\n",
      "Name: Title Desc, dtype: int64\n",
      "---\n",
      "\n",
      "Marital Status Desc\n",
      "NaN          539301\n",
      "Married       14045\n",
      "Single         1939\n",
      "Separated        21\n",
      "Widowed          19\n",
      "Divorced         13\n",
      "Name: Marital Status Desc, dtype: int64\n",
      "---\n",
      "\n",
      "Occupation Desc\n",
      "NaN                     540780\n",
      "Others                    8007\n",
      "Customer                  3254\n",
      "Self                      1089\n",
      "Proprietor                 569\n",
      "Doctor                     272\n",
      "Director                   251\n",
      "VIP Customer               186\n",
      "Sr. Manager                153\n",
      "Manager                    152\n",
      "Executive                   86\n",
      "Col                         75\n",
      "Lt.                         54\n",
      "Vice President              50\n",
      "Junior Manager              42\n",
      "Senior Vice Presiden        40\n",
      "Partner                     33\n",
      "General Manager             30\n",
      "Managing Director           30\n",
      "Assistant Vice Presi        29\n",
      "Executive Assistant         22\n",
      "Executive Director          21\n",
      "Capt                        18\n",
      "CEO                         17\n",
      "Regional Manager            16\n",
      "Lt. Gen                     16\n",
      "Secretary                   15\n",
      "Vice Chairman                9\n",
      "Sr. General Manager          9\n",
      "DGM                          6\n",
      "CFO                          4\n",
      "CTO                          3\n",
      "Name: Occupation Desc, dtype: int64\n",
      "---\n",
      "\n"
     ]
    }
   ],
   "source": [
    "desc_list = ['Partner Type Desc','Data Origin Desc','Title Desc','Marital Status Desc','Occupation Desc']\n",
    "for col in desc_list:\n",
    "    print(col)\n",
    "    print(customer[col].value_counts(dropna=False))\n",
    "    print('---\\n')"
   ]
  },
  {
   "cell_type": "code",
   "execution_count": 18,
   "metadata": {},
   "outputs": [],
   "source": [
    "# customer.to_csv('data/customer_desc.csv')"
   ]
  },
  {
   "cell_type": "code",
   "execution_count": 21,
   "metadata": {},
   "outputs": [],
   "source": [
    "customer['Customer No.'] = customer['Customer No.'].astype(str)\n",
    "cust_custno_list = customer['Customer No.'].unique().tolist()"
   ]
  },
  {
   "cell_type": "code",
   "execution_count": 22,
   "metadata": {},
   "outputs": [],
   "source": [
    "invoice['Customer No.'] = invoice['Customer No.'].astype(str)\n",
    "inv_custno_list = invoice['Customer No.'].unique().tolist()"
   ]
  },
  {
   "cell_type": "code",
   "execution_count": 32,
   "metadata": {},
   "outputs": [
    {
     "data": {
      "text/plain": [
       "['188602', '188547']"
      ]
     },
     "execution_count": 32,
     "metadata": {},
     "output_type": "execute_result"
    }
   ],
   "source": [
    "#check if all customers present in customer data\n",
    "custno_not_in_both = [cno for cno in inv_custno_list if cno not in cust_custno_list]\n",
    "custno_not_in_both"
   ]
  },
  {
   "cell_type": "code",
   "execution_count": 26,
   "metadata": {},
   "outputs": [
    {
     "data": {
      "text/plain": [
       "301856"
      ]
     },
     "execution_count": 26,
     "metadata": {},
     "output_type": "execute_result"
    }
   ],
   "source": [
    "len(custno_not_in_both)"
   ]
  },
  {
   "cell_type": "code",
   "execution_count": 34,
   "metadata": {},
   "outputs": [
    {
     "data": {
      "text/html": [
       "<div>\n",
       "<style scoped>\n",
       "    .dataframe tbody tr th:only-of-type {\n",
       "        vertical-align: middle;\n",
       "    }\n",
       "\n",
       "    .dataframe tbody tr th {\n",
       "        vertical-align: top;\n",
       "    }\n",
       "\n",
       "    .dataframe thead th {\n",
       "        text-align: right;\n",
       "    }\n",
       "</style>\n",
       "<table border=\"1\" class=\"dataframe\">\n",
       "  <thead>\n",
       "    <tr style=\"text-align: right;\">\n",
       "      <th></th>\n",
       "      <th>Unnamed: 0</th>\n",
       "      <th>Area / Locality</th>\n",
       "      <th>CITY</th>\n",
       "      <th>Cash /Cashless Type</th>\n",
       "      <th>Claim No.</th>\n",
       "      <th>Cust Type</th>\n",
       "      <th>Customer No.</th>\n",
       "      <th>District</th>\n",
       "      <th>Expiry Date</th>\n",
       "      <th>Gate Pass Date</th>\n",
       "      <th>...</th>\n",
       "      <th>Recovrbl Exp</th>\n",
       "      <th>Regn No</th>\n",
       "      <th>Technician Name</th>\n",
       "      <th>Total Amt Wtd Tax.</th>\n",
       "      <th>Total Value</th>\n",
       "      <th>User ID</th>\n",
       "      <th>plant_city</th>\n",
       "      <th>plant_state</th>\n",
       "      <th>invoice_month</th>\n",
       "      <th>invoice_year</th>\n",
       "    </tr>\n",
       "  </thead>\n",
       "  <tbody>\n",
       "    <tr>\n",
       "      <th>369708</th>\n",
       "      <td>369708</td>\n",
       "      <td>G.T.ROAD</td>\n",
       "      <td>ALIGARH</td>\n",
       "      <td>NaN</td>\n",
       "      <td>NaN</td>\n",
       "      <td>Retail</td>\n",
       "      <td>188602</td>\n",
       "      <td>Uttar Pradesh</td>\n",
       "      <td>2016-06-12 00:00:00</td>\n",
       "      <td>NaN</td>\n",
       "      <td>...</td>\n",
       "      <td>0.0</td>\n",
       "      <td>UP81AL5265</td>\n",
       "      <td>NaN</td>\n",
       "      <td>1175.53</td>\n",
       "      <td>0.0</td>\n",
       "      <td>X224SA1</td>\n",
       "      <td>ALIGARH</td>\n",
       "      <td>Uttar Pradesh</td>\n",
       "      <td>5</td>\n",
       "      <td>2016</td>\n",
       "    </tr>\n",
       "  </tbody>\n",
       "</table>\n",
       "<p>1 rows × 41 columns</p>\n",
       "</div>"
      ],
      "text/plain": [
       "        Unnamed: 0 Area / Locality     CITY Cash /Cashless Type Claim No.  \\\n",
       "369708      369708        G.T.ROAD  ALIGARH                 NaN       NaN   \n",
       "\n",
       "       Cust Type Customer No.       District          Expiry Date  \\\n",
       "369708    Retail       188602  Uttar Pradesh  2016-06-12 00:00:00   \n",
       "\n",
       "       Gate Pass Date  ... Recovrbl Exp     Regn No  Technician Name  \\\n",
       "369708            NaN  ...          0.0  UP81AL5265              NaN   \n",
       "\n",
       "       Total Amt Wtd Tax.  Total Value  User ID plant_city    plant_state  \\\n",
       "369708            1175.53          0.0  X224SA1    ALIGARH  Uttar Pradesh   \n",
       "\n",
       "        invoice_month invoice_year  \n",
       "369708              5         2016  \n",
       "\n",
       "[1 rows x 41 columns]"
      ]
     },
     "execution_count": 34,
     "metadata": {},
     "output_type": "execute_result"
    }
   ],
   "source": [
    "invoice[invoice['Customer No.'].str.contains(\"188602\")]\n"
   ]
  },
  {
   "cell_type": "code",
   "execution_count": 35,
   "metadata": {},
   "outputs": [
    {
     "data": {
      "text/html": [
       "<div>\n",
       "<style scoped>\n",
       "    .dataframe tbody tr th:only-of-type {\n",
       "        vertical-align: middle;\n",
       "    }\n",
       "\n",
       "    .dataframe tbody tr th {\n",
       "        vertical-align: top;\n",
       "    }\n",
       "\n",
       "    .dataframe thead th {\n",
       "        text-align: right;\n",
       "    }\n",
       "</style>\n",
       "<table border=\"1\" class=\"dataframe\">\n",
       "  <thead>\n",
       "    <tr style=\"text-align: right;\">\n",
       "      <th></th>\n",
       "      <th>Unnamed: 0</th>\n",
       "      <th>Area / Locality</th>\n",
       "      <th>CITY</th>\n",
       "      <th>Cash /Cashless Type</th>\n",
       "      <th>Claim No.</th>\n",
       "      <th>Cust Type</th>\n",
       "      <th>Customer No.</th>\n",
       "      <th>District</th>\n",
       "      <th>Expiry Date</th>\n",
       "      <th>Gate Pass Date</th>\n",
       "      <th>...</th>\n",
       "      <th>Recovrbl Exp</th>\n",
       "      <th>Regn No</th>\n",
       "      <th>Technician Name</th>\n",
       "      <th>Total Amt Wtd Tax.</th>\n",
       "      <th>Total Value</th>\n",
       "      <th>User ID</th>\n",
       "      <th>plant_city</th>\n",
       "      <th>plant_state</th>\n",
       "      <th>invoice_month</th>\n",
       "      <th>invoice_year</th>\n",
       "    </tr>\n",
       "  </thead>\n",
       "  <tbody>\n",
       "    <tr>\n",
       "      <th>369754</th>\n",
       "      <td>369754</td>\n",
       "      <td>AWAS VIKAS</td>\n",
       "      <td>RUDRAPUR</td>\n",
       "      <td>NaN</td>\n",
       "      <td>NaN</td>\n",
       "      <td>Retail</td>\n",
       "      <td>188547</td>\n",
       "      <td>Uttarakhand</td>\n",
       "      <td>2016-09-20 00:00:00</td>\n",
       "      <td>NaN</td>\n",
       "      <td>...</td>\n",
       "      <td>0.0</td>\n",
       "      <td>UK06Y2750</td>\n",
       "      <td>NaN</td>\n",
       "      <td>1135.49</td>\n",
       "      <td>0.0</td>\n",
       "      <td>X233SA1</td>\n",
       "      <td>RUDRAPUR</td>\n",
       "      <td>Uttarakhand</td>\n",
       "      <td>5</td>\n",
       "      <td>2016</td>\n",
       "    </tr>\n",
       "  </tbody>\n",
       "</table>\n",
       "<p>1 rows × 41 columns</p>\n",
       "</div>"
      ],
      "text/plain": [
       "        Unnamed: 0 Area / Locality      CITY Cash /Cashless Type Claim No.  \\\n",
       "369754      369754      AWAS VIKAS  RUDRAPUR                 NaN       NaN   \n",
       "\n",
       "       Cust Type Customer No.     District          Expiry Date  \\\n",
       "369754    Retail       188547  Uttarakhand  2016-09-20 00:00:00   \n",
       "\n",
       "       Gate Pass Date  ... Recovrbl Exp    Regn No  Technician Name  \\\n",
       "369754            NaN  ...          0.0  UK06Y2750              NaN   \n",
       "\n",
       "       Total Amt Wtd Tax.  Total Value  User ID plant_city  plant_state  \\\n",
       "369754            1135.49          0.0  X233SA1   RUDRAPUR  Uttarakhand   \n",
       "\n",
       "        invoice_month invoice_year  \n",
       "369754              5         2016  \n",
       "\n",
       "[1 rows x 41 columns]"
      ]
     },
     "execution_count": 35,
     "metadata": {},
     "output_type": "execute_result"
    }
   ],
   "source": [
    "\n",
    "invoice[invoice['Customer No.'].str.contains(\"188547\")]"
   ]
  },
  {
   "cell_type": "code",
   "execution_count": 36,
   "metadata": {},
   "outputs": [
    {
     "name": "stdout",
     "output_type": "stream",
     "text": [
      "<class 'pandas.core.frame.DataFrame'>\n",
      "RangeIndex: 555338 entries, 0 to 555337\n",
      "Data columns (total 14 columns):\n",
      "Business Partner       555338 non-null object\n",
      "Customer No.           555338 non-null object\n",
      "Partner Type           555260 non-null float64\n",
      "Data Origin            555202 non-null object\n",
      "Title                  509031 non-null float64\n",
      "Marital Status         16037 non-null float64\n",
      "Occupation             14558 non-null float64\n",
      "Date of Birth          13444 non-null object\n",
      "Death date             663 non-null datetime64[ns]\n",
      "Partner Type Desc      555260 non-null object\n",
      "Data Origin Desc       555202 non-null object\n",
      "Title Desc             509031 non-null object\n",
      "Marital Status Desc    16037 non-null object\n",
      "Occupation Desc        14558 non-null object\n",
      "dtypes: datetime64[ns](1), float64(4), object(9)\n",
      "memory usage: 59.3+ MB\n"
     ]
    }
   ],
   "source": [
    "customer.info()"
   ]
  },
  {
   "cell_type": "code",
   "execution_count": 41,
   "metadata": {},
   "outputs": [
    {
     "data": {
      "text/plain": [
       "97.57913198808653"
      ]
     },
     "execution_count": 41,
     "metadata": {},
     "output_type": "execute_result"
    }
   ],
   "source": [
    "# null values percentage -dob\n",
    "customer['Date of Birth'].isnull().sum()/customer.shape[0]*100"
   ]
  },
  {
   "cell_type": "code",
   "execution_count": 42,
   "metadata": {},
   "outputs": [
    {
     "data": {
      "text/plain": [
       "99.88061324814798"
      ]
     },
     "execution_count": 42,
     "metadata": {},
     "output_type": "execute_result"
    }
   ],
   "source": [
    "# null values percentage -death date\n",
    "customer['Death date'].isnull().sum()/customer.shape[0]*100"
   ]
  },
  {
   "cell_type": "code",
   "execution_count": 44,
   "metadata": {},
   "outputs": [
    {
     "data": {
      "text/plain": [
       "97.37853343369264"
      ]
     },
     "execution_count": 44,
     "metadata": {},
     "output_type": "execute_result"
    }
   ],
   "source": [
    "# null values percentage -Occupation\n",
    "customer['Occupation'].isnull().sum()/customer.shape[0]*100"
   ]
  },
  {
   "cell_type": "code",
   "execution_count": 51,
   "metadata": {},
   "outputs": [],
   "source": [
    "inv_cust_merged = pd.merge(invoice,customer.drop(['Date of Birth','Death date',\n",
    "                                                  'Occupation'],axis=1),on='Customer No.',how='left')"
   ]
  },
  {
   "cell_type": "code",
   "execution_count": 53,
   "metadata": {},
   "outputs": [
    {
     "data": {
      "text/plain": [
       "(492314, 51)"
      ]
     },
     "execution_count": 53,
     "metadata": {},
     "output_type": "execute_result"
    }
   ],
   "source": [
    "inv_cust_merged.shape"
   ]
  },
  {
   "cell_type": "code",
   "execution_count": 56,
   "metadata": {},
   "outputs": [],
   "source": [
    "inv_cust_merged.to_csv('data/invoice_customer_merged.csv')"
   ]
  },
  {
   "cell_type": "code",
   "execution_count": null,
   "metadata": {},
   "outputs": [],
   "source": []
  }
 ],
 "metadata": {
  "kernelspec": {
   "display_name": "Python 3",
   "language": "python",
   "name": "python3"
  },
  "language_info": {
   "codemirror_mode": {
    "name": "ipython",
    "version": 3
   },
   "file_extension": ".py",
   "mimetype": "text/x-python",
   "name": "python",
   "nbconvert_exporter": "python",
   "pygments_lexer": "ipython3",
   "version": "3.7.3"
  }
 },
 "nbformat": 4,
 "nbformat_minor": 2
}
